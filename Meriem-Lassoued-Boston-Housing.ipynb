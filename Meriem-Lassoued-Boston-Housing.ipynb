{
 "cells": [
  {
   "cell_type": "code",
   "execution_count": 5,
   "metadata": {},
   "outputs": [],
   "source": [
    "from keras.datasets import boston_housing\n",
    "(X_train, y_train), (X_test, y_test) = boston_housing.load_data()"
   ]
  },
  {
   "cell_type": "code",
   "execution_count": 12,
   "metadata": {},
   "outputs": [
    {
     "name": "stdout",
     "output_type": "stream",
     "text": [
      "[  1.23247   0.        8.14      0.        0.538     6.142    91.7\n",
      "   3.9769    4.      307.       21.      396.9      18.72   ] 15.2\n",
      "[-0.27224633 -0.48361547 -0.43576161 -0.25683275 -0.1652266  -0.1764426\n",
      "  0.81306188  0.1166983  -0.62624905 -0.59517003  1.14850044  0.44807713\n",
      "  0.8252202 ]\n"
     ]
    }
   ],
   "source": [
    "print(X_train[0], y_train[0])\n",
    "from sklearn.preprocessing import StandardScaler\n",
    "scaler = StandardScaler()\n",
    "\n",
    "# first we fit the scaler on the training dataset\n",
    "scaler.fit(X_train)\n",
    "\n",
    "# then we call the transform method to scale both the training and testing data\n",
    "X_train_scaled = scaler.transform(X_train)\n",
    "X_test_scaled = scaler.transform(X_test)\n",
    "\n",
    "# a sample output\n",
    "print(X_train_scaled[0])\n",
    "\n"
   ]
  },
  {
   "cell_type": "code",
   "execution_count": 8,
   "metadata": {},
   "outputs": [],
   "source": [
    "from keras import models, layers\n",
    "model = models.Sequential()\n"
   ]
  },
  {
   "cell_type": "code",
   "execution_count": 9,
   "metadata": {},
   "outputs": [],
   "source": [
    "model.add(layers.Dense(8, activation='relu', input_shape=[X_train.shape[1]]))\n",
    "model.add(layers.Dense(16, activation='relu'))\n",
    "\n",
    "# output layer\n",
    "model.add(layers.Dense(1))"
   ]
  },
  {
   "cell_type": "code",
   "execution_count": 10,
   "metadata": {},
   "outputs": [],
   "source": [
    "model.compile(optimizer='rmsprop', loss='mse', metrics=['mae'])\n"
   ]
  },
  {
   "cell_type": "code",
   "execution_count": 13,
   "metadata": {},
   "outputs": [
    {
     "name": "stdout",
     "output_type": "stream",
     "text": [
      "Epoch 1/100\n",
      " 1/11 [=>............................] - ETA: 0s - loss: 575.2012 - mae: 22.4582WARNING:tensorflow:Callbacks method `on_train_batch_end` is slow compared to the batch time (batch time: 0.0000s vs `on_train_batch_end` time: 0.0010s). Check your callbacks.\n",
      "11/11 [==============================] - 0s 13ms/step - loss: 581.4124 - mae: 22.2466 - val_loss: 649.0148 - val_mae: 23.6947\n",
      "Epoch 2/100\n",
      "11/11 [==============================] - 0s 2ms/step - loss: 571.1955 - mae: 22.0408 - val_loss: 639.6026 - val_mae: 23.5178\n",
      "Epoch 3/100\n",
      "11/11 [==============================] - 0s 2ms/step - loss: 562.9634 - mae: 21.8755 - val_loss: 630.0235 - val_mae: 23.3391\n",
      "Epoch 4/100\n",
      "11/11 [==============================] - 0s 2ms/step - loss: 554.6519 - mae: 21.7065 - val_loss: 620.8564 - val_mae: 23.1657\n",
      "Epoch 5/100\n",
      "11/11 [==============================] - 0s 2ms/step - loss: 546.5287 - mae: 21.5386 - val_loss: 611.2543 - val_mae: 22.9819\n",
      "Epoch 6/100\n",
      "11/11 [==============================] - 0s 2ms/step - loss: 537.7896 - mae: 21.3570 - val_loss: 601.4392 - val_mae: 22.7900\n",
      "Epoch 7/100\n",
      "11/11 [==============================] - 0s 2ms/step - loss: 528.4802 - mae: 21.1666 - val_loss: 590.2175 - val_mae: 22.5679\n",
      "Epoch 8/100\n",
      "11/11 [==============================] - 0s 2ms/step - loss: 518.2921 - mae: 20.9475 - val_loss: 578.4450 - val_mae: 22.3320\n",
      "Epoch 9/100\n",
      "11/11 [==============================] - 0s 2ms/step - loss: 507.0890 - mae: 20.7107 - val_loss: 564.8995 - val_mae: 22.0548\n",
      "Epoch 10/100\n",
      "11/11 [==============================] - 0s 2ms/step - loss: 494.8607 - mae: 20.4482 - val_loss: 551.4327 - val_mae: 21.7797\n",
      "Epoch 11/100\n",
      "11/11 [==============================] - 0s 2ms/step - loss: 482.3494 - mae: 20.1769 - val_loss: 537.9896 - val_mae: 21.4974\n",
      "Epoch 12/100\n",
      "11/11 [==============================] - 0s 2ms/step - loss: 469.4394 - mae: 19.8882 - val_loss: 523.3890 - val_mae: 21.1861\n",
      "Epoch 13/100\n",
      "11/11 [==============================] - 0s 2ms/step - loss: 455.3651 - mae: 19.5728 - val_loss: 505.9546 - val_mae: 20.8123\n",
      "Epoch 14/100\n",
      "11/11 [==============================] - 0s 2ms/step - loss: 439.2663 - mae: 19.2109 - val_loss: 488.2272 - val_mae: 20.4246\n",
      "Epoch 15/100\n",
      "11/11 [==============================] - 0s 2ms/step - loss: 423.3123 - mae: 18.8368 - val_loss: 471.4022 - val_mae: 20.0421\n",
      "Epoch 16/100\n",
      "11/11 [==============================] - 0s 2ms/step - loss: 407.2268 - mae: 18.4514 - val_loss: 452.2311 - val_mae: 19.6045\n",
      "Epoch 17/100\n",
      "11/11 [==============================] - 0s 2ms/step - loss: 389.6387 - mae: 18.0240 - val_loss: 433.8535 - val_mae: 19.1732\n",
      "Epoch 18/100\n",
      "11/11 [==============================] - 0s 2ms/step - loss: 372.1908 - mae: 17.5881 - val_loss: 414.4860 - val_mae: 18.7019\n",
      "Epoch 19/100\n",
      "11/11 [==============================] - 0s 2ms/step - loss: 353.5772 - mae: 17.1048 - val_loss: 393.5556 - val_mae: 18.1766\n",
      "Epoch 20/100\n",
      "11/11 [==============================] - 0s 2ms/step - loss: 334.2464 - mae: 16.5993 - val_loss: 372.2953 - val_mae: 17.6265\n",
      "Epoch 21/100\n",
      "11/11 [==============================] - 0s 2ms/step - loss: 314.2863 - mae: 16.0493 - val_loss: 348.3448 - val_mae: 16.9868\n",
      "Epoch 22/100\n",
      "11/11 [==============================] - 0s 2ms/step - loss: 292.9627 - mae: 15.4283 - val_loss: 325.0135 - val_mae: 16.3249\n",
      "Epoch 23/100\n",
      "11/11 [==============================] - 0s 2ms/step - loss: 271.9123 - mae: 14.7918 - val_loss: 302.8516 - val_mae: 15.6643\n",
      "Epoch 24/100\n",
      "11/11 [==============================] - 0s 2ms/step - loss: 251.7951 - mae: 14.1408 - val_loss: 281.2874 - val_mae: 14.9935\n",
      "Epoch 25/100\n",
      "11/11 [==============================] - 0s 2ms/step - loss: 231.8427 - mae: 13.4722 - val_loss: 255.7283 - val_mae: 14.1594\n",
      "Epoch 26/100\n",
      "11/11 [==============================] - 0s 2ms/step - loss: 209.8697 - mae: 12.6890 - val_loss: 232.4848 - val_mae: 13.3436\n",
      "Epoch 27/100\n",
      "11/11 [==============================] - 0s 2ms/step - loss: 189.8617 - mae: 11.9348 - val_loss: 211.4124 - val_mae: 12.5446\n",
      "Epoch 28/100\n",
      "11/11 [==============================] - 0s 2ms/step - loss: 171.3211 - mae: 11.1898 - val_loss: 191.6008 - val_mae: 11.7804\n",
      "Epoch 29/100\n",
      "11/11 [==============================] - 0s 2ms/step - loss: 153.8045 - mae: 10.4206 - val_loss: 169.8778 - val_mae: 10.8743\n",
      "Epoch 30/100\n",
      "11/11 [==============================] - 0s 2ms/step - loss: 136.2502 - mae: 9.6423 - val_loss: 153.0610 - val_mae: 10.1445\n",
      "Epoch 31/100\n",
      "11/11 [==============================] - 0s 2ms/step - loss: 121.5013 - mae: 8.9873 - val_loss: 135.4003 - val_mae: 9.3821\n",
      "Epoch 32/100\n",
      "11/11 [==============================] - 0s 2ms/step - loss: 107.2668 - mae: 8.3284 - val_loss: 119.4055 - val_mae: 8.7304\n",
      "Epoch 33/100\n",
      "11/11 [==============================] - 0s 2ms/step - loss: 94.6196 - mae: 7.7231 - val_loss: 104.8890 - val_mae: 8.1323\n",
      "Epoch 34/100\n",
      "11/11 [==============================] - 0s 2ms/step - loss: 83.5004 - mae: 7.2007 - val_loss: 91.4192 - val_mae: 7.5702\n",
      "Epoch 35/100\n",
      "11/11 [==============================] - 0s 2ms/step - loss: 73.6909 - mae: 6.7151 - val_loss: 80.3772 - val_mae: 7.0712\n",
      "Epoch 36/100\n",
      "11/11 [==============================] - 0s 2ms/step - loss: 66.0626 - mae: 6.3232 - val_loss: 71.8862 - val_mae: 6.6597\n",
      "Epoch 37/100\n",
      "11/11 [==============================] - 0s 2ms/step - loss: 60.2732 - mae: 6.0676 - val_loss: 63.7090 - val_mae: 6.2748\n",
      "Epoch 38/100\n",
      "11/11 [==============================] - 0s 2ms/step - loss: 55.0137 - mae: 5.7959 - val_loss: 59.4112 - val_mae: 6.0308\n",
      "Epoch 39/100\n",
      "11/11 [==============================] - 0s 2ms/step - loss: 51.6523 - mae: 5.6059 - val_loss: 54.4174 - val_mae: 5.7847\n",
      "Epoch 40/100\n",
      "11/11 [==============================] - 0s 2ms/step - loss: 48.2610 - mae: 5.4219 - val_loss: 50.7417 - val_mae: 5.5935\n",
      "Epoch 41/100\n",
      "11/11 [==============================] - 0s 2ms/step - loss: 45.6914 - mae: 5.2655 - val_loss: 47.7972 - val_mae: 5.4055\n",
      "Epoch 42/100\n",
      "11/11 [==============================] - 0s 2ms/step - loss: 43.1177 - mae: 5.1175 - val_loss: 45.0594 - val_mae: 5.2282\n",
      "Epoch 43/100\n",
      "11/11 [==============================] - 0s 2ms/step - loss: 40.9862 - mae: 4.9773 - val_loss: 42.8950 - val_mae: 5.0898\n",
      "Epoch 44/100\n",
      "11/11 [==============================] - 0s 2ms/step - loss: 39.2325 - mae: 4.8651 - val_loss: 40.5580 - val_mae: 4.9337\n",
      "Epoch 45/100\n",
      "11/11 [==============================] - 0s 2ms/step - loss: 37.2681 - mae: 4.7218 - val_loss: 38.5001 - val_mae: 4.8290\n",
      "Epoch 46/100\n",
      "11/11 [==============================] - 0s 2ms/step - loss: 35.6066 - mae: 4.5982 - val_loss: 36.6548 - val_mae: 4.7299\n",
      "Epoch 47/100\n",
      "11/11 [==============================] - 0s 2ms/step - loss: 34.0537 - mae: 4.4783 - val_loss: 35.2017 - val_mae: 4.6147\n",
      "Epoch 48/100\n",
      "11/11 [==============================] - 0s 2ms/step - loss: 32.7186 - mae: 4.3711 - val_loss: 33.8103 - val_mae: 4.5186\n",
      "Epoch 49/100\n",
      "11/11 [==============================] - 0s 2ms/step - loss: 31.5923 - mae: 4.3015 - val_loss: 32.7763 - val_mae: 4.4092\n",
      "Epoch 50/100\n",
      "11/11 [==============================] - 0s 2ms/step - loss: 30.5869 - mae: 4.1975 - val_loss: 31.6547 - val_mae: 4.3480\n",
      "Epoch 51/100\n",
      "11/11 [==============================] - 0s 2ms/step - loss: 29.6310 - mae: 4.1322 - val_loss: 30.8097 - val_mae: 4.2405\n",
      "Epoch 52/100\n",
      "11/11 [==============================] - 0s 2ms/step - loss: 28.8804 - mae: 4.0346 - val_loss: 29.9048 - val_mae: 4.1837\n",
      "Epoch 53/100\n",
      "11/11 [==============================] - 0s 2ms/step - loss: 28.1433 - mae: 3.9960 - val_loss: 29.3803 - val_mae: 4.1368\n",
      "Epoch 54/100\n",
      "11/11 [==============================] - 0s 2ms/step - loss: 27.6338 - mae: 3.9346 - val_loss: 28.7702 - val_mae: 4.0730\n",
      "Epoch 55/100\n",
      "11/11 [==============================] - 0s 2ms/step - loss: 27.1916 - mae: 3.8886 - val_loss: 28.2312 - val_mae: 4.0262\n",
      "Epoch 56/100\n",
      "11/11 [==============================] - 0s 2ms/step - loss: 26.6393 - mae: 3.8367 - val_loss: 27.7994 - val_mae: 3.9826\n",
      "Epoch 57/100\n",
      "11/11 [==============================] - 0s 2ms/step - loss: 26.3705 - mae: 3.8016 - val_loss: 27.1730 - val_mae: 3.9445\n",
      "Epoch 58/100\n",
      "11/11 [==============================] - 0s 2ms/step - loss: 25.8250 - mae: 3.7577 - val_loss: 26.6063 - val_mae: 3.9310\n",
      "Epoch 59/100\n"
     ]
    },
    {
     "name": "stdout",
     "output_type": "stream",
     "text": [
      "11/11 [==============================] - 0s 2ms/step - loss: 25.3606 - mae: 3.7576 - val_loss: 26.1869 - val_mae: 3.8801\n",
      "Epoch 60/100\n",
      "11/11 [==============================] - 0s 2ms/step - loss: 25.1211 - mae: 3.6900 - val_loss: 25.9571 - val_mae: 3.8798\n",
      "Epoch 61/100\n",
      "11/11 [==============================] - 0s 2ms/step - loss: 24.6707 - mae: 3.6800 - val_loss: 25.5618 - val_mae: 3.8375\n",
      "Epoch 62/100\n",
      "11/11 [==============================] - 0s 2ms/step - loss: 24.4496 - mae: 3.6625 - val_loss: 25.1155 - val_mae: 3.7916\n",
      "Epoch 63/100\n",
      "11/11 [==============================] - 0s 2ms/step - loss: 24.0134 - mae: 3.5931 - val_loss: 24.6907 - val_mae: 3.7572\n",
      "Epoch 64/100\n",
      "11/11 [==============================] - 0s 2ms/step - loss: 23.7578 - mae: 3.5667 - val_loss: 24.4169 - val_mae: 3.7190\n",
      "Epoch 65/100\n",
      "11/11 [==============================] - 0s 2ms/step - loss: 23.4866 - mae: 3.5269 - val_loss: 24.0821 - val_mae: 3.7041\n",
      "Epoch 66/100\n",
      "11/11 [==============================] - 0s 2ms/step - loss: 23.1335 - mae: 3.5027 - val_loss: 23.8321 - val_mae: 3.7074\n",
      "Epoch 67/100\n",
      "11/11 [==============================] - 0s 2ms/step - loss: 22.9428 - mae: 3.4973 - val_loss: 23.7122 - val_mae: 3.7116\n",
      "Epoch 68/100\n",
      "11/11 [==============================] - 0s 2ms/step - loss: 22.6057 - mae: 3.5036 - val_loss: 23.4266 - val_mae: 3.6881\n",
      "Epoch 69/100\n",
      "11/11 [==============================] - 0s 2ms/step - loss: 22.4164 - mae: 3.4885 - val_loss: 22.9889 - val_mae: 3.6455\n",
      "Epoch 70/100\n",
      "11/11 [==============================] - 0s 2ms/step - loss: 22.0867 - mae: 3.4384 - val_loss: 22.6727 - val_mae: 3.6126\n",
      "Epoch 71/100\n",
      "11/11 [==============================] - 0s 2ms/step - loss: 21.8179 - mae: 3.4023 - val_loss: 22.5469 - val_mae: 3.6105\n",
      "Epoch 72/100\n",
      "11/11 [==============================] - 0s 2ms/step - loss: 21.5930 - mae: 3.3959 - val_loss: 22.2380 - val_mae: 3.5891\n",
      "Epoch 73/100\n",
      "11/11 [==============================] - 0s 2ms/step - loss: 21.3963 - mae: 3.3771 - val_loss: 21.9361 - val_mae: 3.5609\n",
      "Epoch 74/100\n",
      "11/11 [==============================] - 0s 2ms/step - loss: 21.0882 - mae: 3.3443 - val_loss: 21.5524 - val_mae: 3.5260\n",
      "Epoch 75/100\n",
      "11/11 [==============================] - 0s 2ms/step - loss: 20.9147 - mae: 3.3343 - val_loss: 21.3744 - val_mae: 3.5020\n",
      "Epoch 76/100\n",
      "11/11 [==============================] - 0s 2ms/step - loss: 20.6360 - mae: 3.2945 - val_loss: 21.1773 - val_mae: 3.4875\n",
      "Epoch 77/100\n",
      "11/11 [==============================] - 0s 2ms/step - loss: 20.4578 - mae: 3.2802 - val_loss: 21.2050 - val_mae: 3.5105\n",
      "Epoch 78/100\n",
      "11/11 [==============================] - 0s 2ms/step - loss: 20.1357 - mae: 3.2782 - val_loss: 20.8976 - val_mae: 3.4604\n",
      "Epoch 79/100\n",
      "11/11 [==============================] - 0s 2ms/step - loss: 19.9831 - mae: 3.2404 - val_loss: 20.8038 - val_mae: 3.4635\n",
      "Epoch 80/100\n",
      "11/11 [==============================] - 0s 2ms/step - loss: 19.6921 - mae: 3.2220 - val_loss: 20.5170 - val_mae: 3.4187\n",
      "Epoch 81/100\n",
      "11/11 [==============================] - 0s 2ms/step - loss: 19.4978 - mae: 3.1814 - val_loss: 20.3637 - val_mae: 3.4169\n",
      "Epoch 82/100\n",
      "11/11 [==============================] - 0s 2ms/step - loss: 19.3211 - mae: 3.1820 - val_loss: 20.1528 - val_mae: 3.4170\n",
      "Epoch 83/100\n",
      "11/11 [==============================] - 0s 2ms/step - loss: 19.1923 - mae: 3.1739 - val_loss: 20.0645 - val_mae: 3.3960\n",
      "Epoch 84/100\n",
      "11/11 [==============================] - 0s 2ms/step - loss: 18.8821 - mae: 3.1539 - val_loss: 19.8578 - val_mae: 3.3590\n",
      "Epoch 85/100\n",
      "11/11 [==============================] - 0s 2ms/step - loss: 18.8008 - mae: 3.1180 - val_loss: 19.7989 - val_mae: 3.3688\n",
      "Epoch 86/100\n",
      "11/11 [==============================] - 0s 2ms/step - loss: 18.5616 - mae: 3.1184 - val_loss: 19.6217 - val_mae: 3.3442\n",
      "Epoch 87/100\n",
      "11/11 [==============================] - 0s 2ms/step - loss: 18.3901 - mae: 3.1037 - val_loss: 19.3793 - val_mae: 3.3155\n",
      "Epoch 88/100\n",
      "11/11 [==============================] - 0s 2ms/step - loss: 18.2427 - mae: 3.0729 - val_loss: 19.2505 - val_mae: 3.3282\n",
      "Epoch 89/100\n",
      "11/11 [==============================] - 0s 2ms/step - loss: 17.9889 - mae: 3.0658 - val_loss: 19.2861 - val_mae: 3.3357\n",
      "Epoch 90/100\n",
      "11/11 [==============================] - 0s 2ms/step - loss: 17.7981 - mae: 3.0638 - val_loss: 19.1214 - val_mae: 3.3161\n",
      "Epoch 91/100\n",
      "11/11 [==============================] - 0s 2ms/step - loss: 17.6336 - mae: 3.0478 - val_loss: 19.0859 - val_mae: 3.3207\n",
      "Epoch 92/100\n",
      "11/11 [==============================] - 0s 2ms/step - loss: 17.5551 - mae: 3.0475 - val_loss: 18.5707 - val_mae: 3.2596\n",
      "Epoch 93/100\n",
      "11/11 [==============================] - 0s 2ms/step - loss: 17.3395 - mae: 3.0120 - val_loss: 18.5074 - val_mae: 3.2544\n",
      "Epoch 94/100\n",
      "11/11 [==============================] - 0s 2ms/step - loss: 17.2177 - mae: 2.9996 - val_loss: 18.4508 - val_mae: 3.2599\n",
      "Epoch 95/100\n",
      "11/11 [==============================] - 0s 2ms/step - loss: 17.0213 - mae: 2.9967 - val_loss: 18.1796 - val_mae: 3.2102\n",
      "Epoch 96/100\n",
      "11/11 [==============================] - 0s 2ms/step - loss: 16.9224 - mae: 2.9611 - val_loss: 18.0763 - val_mae: 3.1951\n",
      "Epoch 97/100\n",
      "11/11 [==============================] - 0s 2ms/step - loss: 16.8021 - mae: 2.9424 - val_loss: 17.9917 - val_mae: 3.1939\n",
      "Epoch 98/100\n",
      "11/11 [==============================] - 0s 2ms/step - loss: 16.6079 - mae: 2.9391 - val_loss: 17.7875 - val_mae: 3.1709\n",
      "Epoch 99/100\n",
      "11/11 [==============================] - 0s 2ms/step - loss: 16.4688 - mae: 2.9200 - val_loss: 17.6995 - val_mae: 3.1673\n",
      "Epoch 100/100\n",
      "11/11 [==============================] - 0s 2ms/step - loss: 16.3316 - mae: 2.9032 - val_loss: 17.8098 - val_mae: 3.1764\n"
     ]
    }
   ],
   "source": [
    "history = model.fit(X_train_scaled, y_train, validation_split=0.2, epochs=100)\n"
   ]
  },
  {
   "cell_type": "code",
   "execution_count": 16,
   "metadata": {},
   "outputs": [
    {
     "data": {
      "image/png": "[encoded data removed]",
      "text/plain": [
       "<Figure size 432x288 with 1 Axes>"
      ]
     },
     "metadata": {
      "needs_background": "light"
     },
     "output_type": "display_data"
    }
   ],
   "source": [
    "import matplotlib.pyplot as plt\n",
    "\n",
    "plt.plot(history.history['mae'])\n",
    "plt.plot(history.history['val_mae'])\n",
    "plt.title('model accuracy')\n",
    "plt.ylabel('accuracy')\n",
    "plt.xlabel('epoch')\n",
    "plt.legend(['train', 'test'], loc='upper left')\n",
    "plt.show()"
   ]
  },
  {
   "cell_type": "code",
   "execution_count": 17,
   "metadata": {},
   "outputs": [
    {
     "data": {
      "image/png": "[encoded data removed]",
      "text/plain": [
       "<Figure size 432x288 with 1 Axes>"
      ]
     },
     "metadata": {
      "needs_background": "light"
     },
     "output_type": "display_data"
    }
   ],
   "source": [
    "# summarize history for loss\n",
    "plt.plot(history.history['loss'])\n",
    "plt.plot(history.history['val_loss'])\n",
    "plt.title('model loss')\n",
    "plt.ylabel('loss')\n",
    "plt.xlabel('epoch')\n",
    "plt.legend(['train', 'test'], loc='upper left')\n",
    "plt.show()"
   ]
  },
  {
   "cell_type": "code",
   "execution_count": 18,
   "metadata": {},
   "outputs": [
    {
     "name": "stdout",
     "output_type": "stream",
     "text": [
      "4/4 [==============================] - 0s 735us/step - loss: 26.4845 - mae: 3.7170\n"
     ]
    },
    {
     "data": {
      "text/plain": [
       "[26.484512329101562, 3.7170188426971436]"
      ]
     },
     "execution_count": 18,
     "metadata": {},
     "output_type": "execute_result"
    }
   ],
   "source": [
    "model.evaluate(X_test_scaled, y_test)\n"
   ]
  },
  {
   "cell_type": "code",
   "execution_count": 19,
   "metadata": {},
   "outputs": [
    {
     "name": "stdout",
     "output_type": "stream",
     "text": [
      "[[13.321173]\n",
      " [40.16096 ]]\n",
      "[15.2 42.3]\n"
     ]
    }
   ],
   "source": [
    "#Prediction \n",
    "# we get a sample data (the first 2 inputs from the training data)\n",
    "to_predict = X_train_scaled[:2]\n",
    "# we call the predict method\n",
    "predictions = model.predict(to_predict)\n",
    "# print the predictions\n",
    "print(predictions)\n",
    "# output\n",
    "# array([[13.272537], [39.808475]], dtype=float32)\n",
    "# print the real values\n",
    "print(y_train[:2])\n",
    "# array([15.2, 42.3])"
   ]
  },
  {
   "cell_type": "code",
   "execution_count": null,
   "metadata": {},
   "outputs": [],
   "source": []
  }
 ],
 "metadata": {
  "kernelspec": {
   "display_name": "Python 3",
   "language": "python",
   "name": "python3"
  },
  "language_info": {
   "codemirror_mode": {
    "name": "ipython",
    "version": 3
   },
   "file_extension": ".py",
   "mimetype": "text/x-python",
   "name": "python",
   "nbconvert_exporter": "python",
   "pygments_lexer": "ipython3",
   "version": "3.8.3"
  }
 },
 "nbformat": 4,
 "nbformat_minor": 4
}
